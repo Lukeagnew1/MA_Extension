{
 "cells": [
  {
   "cell_type": "markdown",
   "id": "2ea5b088-a237-4aa9-b33c-d2391b635dd1",
   "metadata": {},
   "source": [
    "# Extension Relative to Key Moving Averages"
   ]
  },
  {
   "cell_type": "code",
   "execution_count": null,
   "id": "9d65983e-5e35-4aed-9ae1-1c53b7a0ef19",
   "metadata": {},
   "outputs": [],
   "source": [
    "import ipywidgets as widgets\n",
    "from IPython.display import display\n",
    "\n",
    "import yfinance as yf\n",
    "import pandas as pd\n",
    "import requests\n",
    "import math\n",
    "import time\n",
    "\n",
    "import matplotlib.pyplot as plt\n",
    "\n",
    "from datetime import datetime, timedelta\n",
    "\n",
    "# Widget for the ticker symbol\n",
    "ticker_input = widgets.Text(\n",
    "    value='SPY',  # Default value\n",
    "    description='Ticker:',\n",
    "    disabled=False\n",
    ")\n",
    "\n",
    "# Widget for the start year \n",
    "start_year_input = widgets.Text(\n",
    "    value='2022-01-01',  # Default value\n",
    "    description='Start Date:',\n",
    "    disabled=False\n",
    ")\n",
    "\n",
    "# Widget for the number of days\n",
    "days_input = widgets.IntText(\n",
    "    value=5,  # Default value\n",
    "    description='Days:',\n",
    "    disabled=False\n",
    ")\n",
    "\n",
    "display(ticker_input, start_year_input, days_input)\n",
    "\n",
    "button = widgets.Button(description=\"Run Analysis\")\n",
    "output = widgets.Output()\n",
    "\n",
    "display(button, output)\n",
    "\n",
    "def on_button_clicked(b):\n",
    "    # Clear the previous output\n",
    "    output.clear_output()\n",
    "    \n",
    "    # Your code to run when the button is clicked\n",
    "    # Example: print the values from the input widgets\n",
    "    with output:\n",
    "        tickers = ticker_input.value.replace(' ','').split(',')\n",
    "        tickers\n",
    "\n",
    "        results = pd.DataFrame(columns=['Ticker','Moving Average','Extension','Count','Mean','Std','Min','25 Percentile','50 Percentile','75 Percentile','Maximum'])\n",
    "        results\n",
    "\n",
    "        for ticker in tickers:\n",
    "\n",
    "            df = yf.download(ticker, start=start_year_input.value, end=datetime.now().strftime('%Y-%m-%d'))\n",
    "\n",
    "            df['Daily 50 SMA'] = df['Close'].rolling(window=50).mean()\n",
    "            df['Daily 200 SMA'] = df['Close'].rolling(window=200).mean()\n",
    "\n",
    "            df['Daily 8 EMA'] = df['Close'].ewm(span=8, adjust=False).mean()\n",
    "            df['Daily 21 EMA'] = df['Close'].ewm(span=21, adjust=False).mean()\n",
    "\n",
    "            df['Open Distance 8 EMA'] = ((df['Open'] - df['Daily 8 EMA']) / df['Daily 8 EMA']) * 100\n",
    "            df['Open Distance 21 EMA'] = ((df['Open'] - df['Daily 21 EMA']) / df['Daily 21 EMA']) * 100\n",
    "\n",
    "            df['Open Distance 50 SMA'] = ((df['Open'] - df['Daily 50 SMA']) / df['Daily 50 SMA']) * 100\n",
    "            df['Open Distance 200 SMA'] = ((df['Open'] - df['Daily 200 SMA']) / df['Daily 200 SMA']) * 100\n",
    "\n",
    "            df.reset_index(inplace=True)\n",
    "\n",
    "            for col in df.columns[-4:]:\n",
    "\n",
    "                for distance in range(math.floor(df[col].min()), math.ceil(df[col].max())):\n",
    "                    hold = df[(df[col] >= distance) & (df[col] <= distance+1)].reset_index(drop=True)\n",
    "\n",
    "                    trades = [] \n",
    "\n",
    "                    for i in range(len(hold)):\n",
    "                        try:\n",
    "                            start_index_original = df[df['Date'] == hold.at[i,'Date']].index[0] # Denotes index position of day in original dataframe\n",
    "\n",
    "                            price_open = df.iloc[start_index_original]['Open']\n",
    "                            price_close = df.iloc[start_index_original+days_input.value]['Close']\n",
    "\n",
    "                            trades.append(((price_close - price_open) / price_open) * 100)\n",
    "                        except:\n",
    "                            continue\n",
    "\n",
    "\n",
    "                    results.loc[len(results)] = [ticker, col, (distance, distance+1)] + [c for c in pd.Series(trades, dtype='float64').describe().values]\n",
    "\n",
    "        width = 20\n",
    "        height = 25\n",
    "        rotation = 70\n",
    "\n",
    "        plt.figure(figsize=(width,height))\n",
    "\n",
    "        plt.subplot(4,1,1)\n",
    "\n",
    "        mean = pd.DataFrame(results[results['Moving Average'] == 'Open Distance 8 EMA'].groupby('Extension')['Mean'].mean()).reset_index()\n",
    "        count = pd.DataFrame(results[results['Moving Average'] == 'Open Distance 8 EMA'].groupby('Extension')['Count'].sum()).reset_index()\n",
    "\n",
    "        holder = pd.merge(count, mean, how='left', on='Extension')\n",
    "        holder['Extension'] = holder['Extension'].astype(str)\n",
    "        holder\n",
    "\n",
    "        holder = holder[holder[holder['Count'] > 1].index[0]:holder[holder['Count'] > 1].index[-1]+1].reset_index(drop=True)\n",
    "\n",
    "        # Creating the bar chart\n",
    "        plt.bar(holder['Extension'], holder['Mean'])\n",
    "\n",
    "        # Annotating the bars with 'Label' values\n",
    "        for idx, row in holder.iterrows():\n",
    "            plt.annotate(row['Count'], (row['Extension'], row['Mean']), textcoords=\"offset points\", xytext=(0,20), ha='center')\n",
    "\n",
    "        plt.xlabel('Extension from 8 EMA')\n",
    "        plt.ylabel('Mean Return')\n",
    "        plt.title('8 EMA')\n",
    "        plt.xticks(rotation=rotation)\n",
    "        plt.show()\n",
    "\n",
    "        plt.figure(figsize=(width,height))\n",
    "\n",
    "        plt.subplot(4,1,2)\n",
    "\n",
    "        mean = pd.DataFrame(results[results['Moving Average'] == 'Open Distance 21 EMA'].groupby('Extension')['Mean'].mean()).reset_index()\n",
    "        count = pd.DataFrame(results[results['Moving Average'] == 'Open Distance 21 EMA'].groupby('Extension')['Count'].sum()).reset_index()\n",
    "\n",
    "        holder = pd.merge(count, mean, how='left', on='Extension')\n",
    "        holder['Extension'] = holder['Extension'].astype(str)\n",
    "        holder\n",
    "\n",
    "        holder = holder[holder[holder['Count'] > 1].index[0]:holder[holder['Count'] > 1].index[-1]+1].reset_index(drop=True)\n",
    "\n",
    "        # Creating the bar chart\n",
    "        plt.bar(holder['Extension'], holder['Mean'])\n",
    "\n",
    "        # Annotating the bars with 'Label' values\n",
    "        for idx, row in holder.iterrows():\n",
    "            plt.annotate(row['Count'], (row['Extension'], row['Mean']), textcoords=\"offset points\", xytext=(0,20), ha='center')\n",
    "\n",
    "        plt.xlabel('Extension from 21 EMA')\n",
    "        plt.ylabel('Mean Return')\n",
    "        plt.title('21 EMA')\n",
    "        plt.xticks(rotation=rotation)\n",
    "        plt.show()\n",
    "\n",
    "        plt.figure(figsize=(width,height))\n",
    "\n",
    "        plt.subplot(4,1,3)\n",
    "\n",
    "        mean = pd.DataFrame(results[results['Moving Average'] == 'Open Distance 50 SMA'].groupby('Extension')['Mean'].mean()).reset_index()\n",
    "        count = pd.DataFrame(results[results['Moving Average'] == 'Open Distance 50 SMA'].groupby('Extension')['Count'].sum()).reset_index()\n",
    "\n",
    "        holder = pd.merge(count, mean, how='left', on='Extension')\n",
    "        holder['Extension'] = holder['Extension'].astype(str)\n",
    "        holder\n",
    "\n",
    "        holder = holder[holder[holder['Count'] > 1].index[0]:holder[holder['Count'] > 1].index[-1]+1].reset_index(drop=True)\n",
    "\n",
    "        # Creating the bar chart\n",
    "        plt.bar(holder['Extension'], holder['Mean'])\n",
    "\n",
    "        # Annotating the bars with 'Label' values\n",
    "        for idx, row in holder.iterrows():\n",
    "            plt.annotate(row['Count'], (row['Extension'], row['Mean']), textcoords=\"offset points\", xytext=(0,20), ha='center')\n",
    "\n",
    "        plt.xlabel('Extension from 50 SMA')\n",
    "        plt.ylabel('Mean Return')\n",
    "        plt.title('50 SMA')\n",
    "        plt.xticks(rotation=rotation)\n",
    "        plt.show()\n",
    "\n",
    "        plt.figure(figsize=(width,height))\n",
    "\n",
    "        plt.subplot(4,1,4)\n",
    "\n",
    "        mean = pd.DataFrame(results[results['Moving Average'] == 'Open Distance 200 SMA'].groupby('Extension')['Mean'].mean()).reset_index()\n",
    "        count = pd.DataFrame(results[results['Moving Average'] == 'Open Distance 200 SMA'].groupby('Extension')['Count'].sum()).reset_index()\n",
    "\n",
    "        holder = pd.merge(count, mean, how='left', on='Extension')\n",
    "        holder['Extension'] = holder['Extension'].astype(str)\n",
    "        holder\n",
    "\n",
    "        holder = holder[holder[holder['Count'] > 1].index[0]:holder[holder['Count'] > 1].index[-1]+1].reset_index(drop=True)\n",
    "\n",
    "        # Creating the bar chart\n",
    "        plt.bar(holder['Extension'], holder['Mean'])\n",
    "\n",
    "        # Annotating the bars with 'Label' values\n",
    "        for idx, row in holder.iterrows():\n",
    "            plt.annotate(row['Count'], (row['Extension'], row['Mean']), textcoords=\"offset points\", xytext=(0,20), ha='center')\n",
    "\n",
    "        plt.xlabel('Extension from 200 SMA')\n",
    "        plt.ylabel('Mean Return')\n",
    "        plt.title('200 SMA')\n",
    "        plt.xticks(rotation=rotation)\n",
    "        plt.show()\n",
    "\n",
    "# Link the button to the function\n",
    "button.on_click(on_button_clicked)"
   ]
  },
  {
   "cell_type": "markdown",
   "id": "0961df17-ef7b-41f5-8b7d-781d46fc4b67",
   "metadata": {},
   "source": [
    "# Specific Extension from Moving Average"
   ]
  },
  {
   "cell_type": "code",
   "execution_count": 122,
   "id": "2875d154-e2b3-45bd-ba8e-f3d83f375878",
   "metadata": {},
   "outputs": [
    {
     "data": {
      "application/vnd.jupyter.widget-view+json": {
       "model_id": "74e72847556d4a8986dc6582b88c54cc",
       "version_major": 2,
       "version_minor": 0
      },
      "text/plain": [
       "Text(value='SPY', description='Ticker:')"
      ]
     },
     "metadata": {},
     "output_type": "display_data"
    },
    {
     "data": {
      "application/vnd.jupyter.widget-view+json": {
       "model_id": "28ca920401db4565a0288911dea9158a",
       "version_major": 2,
       "version_minor": 0
      },
      "text/plain": [
       "Text(value='5', description='Days:')"
      ]
     },
     "metadata": {},
     "output_type": "display_data"
    },
    {
     "data": {
      "application/vnd.jupyter.widget-view+json": {
       "model_id": "3be3b85cdc034a369357441e6fda1b23",
       "version_major": 2,
       "version_minor": 0
      },
      "text/plain": [
       "SelectMultiple(description='Moving Average', index=(0,), options=('8EMA', '21EMA', '50SMA', '200SMA'), value=(…"
      ]
     },
     "metadata": {},
     "output_type": "display_data"
    },
    {
     "data": {
      "application/vnd.jupyter.widget-view+json": {
       "model_id": "dcf21592373441c590c42f9a14ec1665",
       "version_major": 2,
       "version_minor": 0
      },
      "text/plain": [
       "Text(value='2022-01-01', description='Start Date')"
      ]
     },
     "metadata": {},
     "output_type": "display_data"
    },
    {
     "data": {
      "application/vnd.jupyter.widget-view+json": {
       "model_id": "041157d25435407aa9bf8d95f57a2060",
       "version_major": 2,
       "version_minor": 0
      },
      "text/plain": [
       "Text(value='.8', description='Bottom')"
      ]
     },
     "metadata": {},
     "output_type": "display_data"
    },
    {
     "data": {
      "application/vnd.jupyter.widget-view+json": {
       "model_id": "fdcfa04104b14abea56040f6b42d6a2b",
       "version_major": 2,
       "version_minor": 0
      },
      "text/plain": [
       "Text(value='1.2', description='Top')"
      ]
     },
     "metadata": {},
     "output_type": "display_data"
    },
    {
     "data": {
      "application/vnd.jupyter.widget-view+json": {
       "model_id": "2f92fb485b2d487a9ca23c19a2490a8f",
       "version_major": 2,
       "version_minor": 0
      },
      "text/plain": [
       "Button(description='Run Analysis', style=ButtonStyle())"
      ]
     },
     "metadata": {},
     "output_type": "display_data"
    },
    {
     "data": {
      "application/vnd.jupyter.widget-view+json": {
       "model_id": "f224b9b20aa44dca988eb2701a93957c",
       "version_major": 2,
       "version_minor": 0
      },
      "text/plain": [
       "Output()"
      ]
     },
     "metadata": {},
     "output_type": "display_data"
    }
   ],
   "source": [
    "import ipywidgets as widgets\n",
    "import yfinance as yf\n",
    "from datetime import datetime\n",
    "from IPython.display import display\n",
    "\n",
    "# Define your widgets\n",
    "ticker_input = widgets.Text(value='SPY', description='Ticker:', disabled=False)\n",
    "days_input = widgets.Text(value='5', description='Days:', disabled=False)\n",
    "moving_average = widgets.SelectMultiple(options=['8EMA', '21EMA', '50SMA', '200SMA'], value=['8EMA'], description='Moving Average', disabled=False)\n",
    "start_date = widgets.Text(value='2022-01-01', description='Start Date', disabled=False)\n",
    "atr_bottom = widgets.Text(value='.8', description='Bottom', disabled=False)\n",
    "atr_top = widgets.Text(value='1.2', description='Top', disabled=False)\n",
    "\n",
    "# Display your widgets\n",
    "display(ticker_input, days_input, moving_average, start_date, atr_bottom, atr_top)\n",
    "\n",
    "button = widgets.Button(description=\"Run Analysis\")\n",
    "output = widgets.Output()\n",
    "\n",
    "display(button, output)\n",
    "\n",
    "def on_button_clicked(b):\n",
    "    with output:\n",
    "        output.clear_output()  # Clear the previous output\n",
    "        tickers = ticker_input.value.replace(' ', '').split(',')\n",
    "        \n",
    "        df = yf.download(ticker_input.value, start=start_date.value, end=datetime.now().strftime('%Y-%m-%d'))\n",
    "\n",
    "        if moving_average.value[0] == '8EMA':\n",
    "            df['Moving Average'] = df['Close'].ewm(span=8, adjust=False).mean()\n",
    "        if moving_average.value[0] == '21EMA':\n",
    "            df['Moving Average'] = df['Close'].ewm(span=21, adjust=False).mean()\n",
    "\n",
    "        if moving_average.value[0] == '50SMA':\n",
    "            df['Moving Average'] = df['Close'].rolling(window=50).mean()\n",
    "        if moving_average.value[0] == '200SMA':\n",
    "            df['Moving Average'] = df['Close'].rolling(window=200).mean()\n",
    "\n",
    "        df['Distance from MA'] = ((df['Open'] - df['Moving Average']) / df['Moving Average']) * 100\n",
    "\n",
    "        df.reset_index(inplace=True)\n",
    "        \n",
    "        trades = []\n",
    "\n",
    "        for spot in df[(df['Distance from MA'] >= float(atr_bottom.value)) & (df['Distance from MA'] <= float(atr_top.value))]['Date'].values:\n",
    "            hold = df[df[df['Date'] == spot].index[0]:df[df['Date'] == spot].index[0]+int(days_input.value)]\n",
    "\n",
    "            trades.append(((hold['Close'].values[-1] - hold['Open'].values[0]) / hold['Open'].values[0]) * 100)\n",
    "\n",
    "        # Create the line graph\n",
    "        plt.figure(figsize=(18, 6))\n",
    "        plt.plot(df['Date'], df['Close'], label='Daily Close', linewidth=2)\n",
    "        plt.plot(df['Date'], df['Moving Average'], label=moving_average.value[0], linestyle='-')\n",
    "\n",
    "        plt.title(ticker_input.value)\n",
    "        plt.legend()\n",
    "\n",
    "        temp = df[(df['Distance from MA'] >= float(atr_bottom.value)) & (df['Distance from MA'] <= float(atr_top.value))]\n",
    "\n",
    "        plt.scatter(temp['Date'], temp['Close'], color='red', s=75, label='Spots of Extension')\n",
    "\n",
    "        plt.title(ticker_input.value)\n",
    "        plt.legend()\n",
    "\n",
    "        # Show the plot\n",
    "        plt.grid(True)\n",
    "        plt.show()\n",
    "        \n",
    "        display(pd.DataFrame(pd.Series(trades).describe()).transpose())\n",
    "\n",
    "button.on_click(on_button_clicked)"
   ]
  },
  {
   "cell_type": "code",
   "execution_count": null,
   "id": "69012bbb-bc41-4b3b-a95a-813dd04ccd94",
   "metadata": {},
   "outputs": [],
   "source": []
  }
 ],
 "metadata": {
  "kernelspec": {
   "display_name": "Python 3 (ipykernel)",
   "language": "python",
   "name": "python3"
  },
  "language_info": {
   "codemirror_mode": {
    "name": "ipython",
    "version": 3
   },
   "file_extension": ".py",
   "mimetype": "text/x-python",
   "name": "python",
   "nbconvert_exporter": "python",
   "pygments_lexer": "ipython3",
   "version": "3.8.5"
  }
 },
 "nbformat": 4,
 "nbformat_minor": 5
}
